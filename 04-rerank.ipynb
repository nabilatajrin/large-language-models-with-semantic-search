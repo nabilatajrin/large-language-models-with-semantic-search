{
  "metadata": {
    "kernelspec": {
      "name": "python",
      "display_name": "Python (Pyodide)",
      "language": "python"
    },
    "language_info": {
      "codemirror_mode": {
        "name": "python",
        "version": 3
      },
      "file_extension": ".py",
      "mimetype": "text/x-python",
      "name": "python",
      "nbconvert_exporter": "python",
      "pygments_lexer": "ipython3",
      "version": "3.8"
    }
  },
  "nbformat_minor": 5,
  "nbformat": 4,
  "cells": [
    {
      "cell_type": "markdown",
      "source": "Embeddings",
      "metadata": {},
      "id": "11cc2042"
    },
    {
      "cell_type": "markdown",
      "source": "# ReRank",
      "metadata": {},
      "id": "14c47bc7"
    },
    {
      "cell_type": "markdown",
      "source": "## Setup\n\nLoad needed API keys and relevant Python libaries.",
      "metadata": {},
      "id": "d7d1877e-736c-4d92-8a01-f99f8fa76b4e"
    },
    {
      "cell_type": "code",
      "source": "# !pip install cohere umap-learn altair datasets",
      "metadata": {
        "height": 30
      },
      "execution_count": null,
      "outputs": [],
      "id": "8831c1e6"
    },
    {
      "cell_type": "code",
      "source": "# !pip install cohere \n# !pip install weaviate-client",
      "metadata": {
        "height": 81
      },
      "execution_count": null,
      "outputs": [],
      "id": "23d4483b"
    },
    {
      "cell_type": "code",
      "source": "import os\nfrom dotenv import load_dotenv, find_dotenv\n_ = load_dotenv(find_dotenv()) # read local .env file",
      "metadata": {
        "height": 47
      },
      "execution_count": null,
      "outputs": [],
      "id": "14cee683"
    },
    {
      "cell_type": "code",
      "source": "import cohere\nco = cohere.Client(os.environ['COHERE_API_KEY'])",
      "metadata": {
        "height": 30
      },
      "execution_count": null,
      "outputs": [],
      "id": "7cd186b9"
    },
    {
      "cell_type": "code",
      "source": "import weaviate\nauth_config = weaviate.auth.AuthApiKey(\n    api_key=os.environ['WEAVIATE_API_KEY'])",
      "metadata": {},
      "execution_count": null,
      "outputs": [],
      "id": "c022b72d-1e33-4359-9054-44597c7e24d2"
    },
    {
      "cell_type": "code",
      "source": "client = weaviate.Client(\n    url=os.environ['WEAVIATE_API_URL'],\n    auth_client_secret=auth_config,\n    additional_headers={\n        \"X-Cohere-Api-Key\": os.environ['COHERE_API_KEY'],\n    }\n)",
      "metadata": {},
      "execution_count": null,
      "outputs": [],
      "id": "70572191-6ea3-4e72-8d90-d58a87a059c8"
    },
    {
      "cell_type": "markdown",
      "source": "## Dense Retrieval",
      "metadata": {},
      "id": "a66e9572"
    },
    {
      "cell_type": "code",
      "source": "from utils import dense_retrieval",
      "metadata": {
        "height": 149
      },
      "execution_count": null,
      "outputs": [],
      "id": "3ab6a806"
    },
    {
      "cell_type": "code",
      "source": "query = \"What is the capital of Canada?\"",
      "metadata": {},
      "execution_count": null,
      "outputs": [],
      "id": "ab452ad8-ff29-4fde-bb09-296ecad9077a"
    },
    {
      "cell_type": "code",
      "source": "dense_retrieval_results = dense_retrieval(query, client)",
      "metadata": {
        "height": 64
      },
      "execution_count": null,
      "outputs": [],
      "id": "22d30ec7"
    },
    {
      "cell_type": "code",
      "source": "word_1 = three_words_emb[0]\nword_2 = three_words_emb[1]\nword_3 = three_words_emb[2]",
      "metadata": {
        "height": 64
      },
      "execution_count": null,
      "outputs": [],
      "id": "5f179777"
    },
    {
      "cell_type": "code",
      "source": "from utils import print_result",
      "metadata": {
        "height": 30
      },
      "execution_count": null,
      "outputs": [],
      "id": "69da1290"
    },
    {
      "cell_type": "code",
      "source": "print_result(dense_retrieval_results)",
      "metadata": {},
      "execution_count": null,
      "outputs": [],
      "id": "11204003-32b5-4d1c-b76c-948608b8575e"
    },
    {
      "cell_type": "markdown",
      "source": "item 0\n_additional:{'distance': -150.8129}\n\nlang:en\n\ntext:The governor general of the province had designated Kingston as the capital in 1841. However, the major population centres of Toronto and Montreal, as well as the former capital of Lower Canada, Quebec City, all had legislators dissatisfied with Kingston. Anglophone merchants in Quebec were the main group supportive of the Kingston arrangement. In 1842, a vote rejected Kingston as the capital, and study of potential candidates included the then-named Bytown, but that option proved less popular than Toronto or Montreal. In 1843, a report of the Executive Council recommended Montreal as the capital as a more fortifiable location and commercial centre, however, the Governor General refused to execute a move without a parliamentary vote. In 1844, the Queen's acceptance of a parliamentary vote moved the capital to Montreal.\n\ntitle:Ottawa\n\nurl:https://en.wikipedia.org/wiki?curid=22219\n\nviews:2000\n\n\nitem 1\n_additional:{'distance': -150.29314}\n\nlang:en\n\ntext:For brief periods, Toronto was twice the capital of the united Province of Canada: first from 1849 to 1852, following unrest in Montreal, and later 1856–1858. After this date, Quebec was designated as the capital until 1866 (one year before Canadian Confederation). Since then, the capital of Canada has remained Ottawa, Ontario.\n\ntitle:Toronto\n\nurl:https://en.wikipedia.org/wiki?curid=64646\n\nviews:3000\n\n\nitem 2\n_additional:{'distance': -150.03601}\n\nlang:en\n\ntext:Selection of Ottawa as the capital of Canada predates the Confederation of Canada. The selection was contentious and not straightforward, with the parliament of the United Province of Canada holding more than 200 votes over several decades to attempt to settle on a legislative solution to the location of the capital.\n\ntitle:Ottawa\n\nurl:https://en.wikipedia.org/wiki?curid=22219\n\nviews:2000\n\n\nitem 3\n_additional:{'distance': -149.92947}\n\nlang:en\n\ntext:Until the late 18th century Québec was the most populous city in present-day Canada. As of the census of 1790, Montreal surpassed it with 18,000 inhabitants, but Quebec (pop. 14,000) remained the administrative capital of New France. It was then made the capital of Lower Canada by the Constitutional Act of 1791. From 1841 to 1867, the capital of the Province of Canada rotated between Kingston, Montreal, Toronto, Ottawa and Quebec City (from 1852 to 1856 and from 1859 to 1866).\n\ntitle:Quebec City\n\nurl:https://en.wikipedia.org/wiki?curid=100727\n\nviews:2000\n\n...............",
      "metadata": {},
      "id": "f347d5a9-fdfd-4019-a572-af869ebbd74c"
    },
    {
      "cell_type": "markdown",
      "source": "## Improving Keyword Search with ReRank",
      "metadata": {},
      "id": "81adb0d9"
    },
    {
      "cell_type": "code",
      "source": "from utils import keyword_search",
      "metadata": {},
      "execution_count": null,
      "outputs": [],
      "id": "bea6f5d9-d82c-4840-85ee-a130d9fc4add"
    },
    {
      "cell_type": "code",
      "source": "query_1 = \"What is the capital of Canada?\"",
      "metadata": {
        "height": 234
      },
      "execution_count": null,
      "outputs": [],
      "id": "ca6539bc"
    },
    {
      "cell_type": "code",
      "source": "query_1 = \"What is the capital of Canada?\"\nresults = keyword_search(query_1,\n                         client,\n                         properties=[\"text\", \"title\", \"url\", \"views\", \"lang\", \"_additional {distance}\"],\n                         num_results=3\n                        )\n\nfor i, result in enumerate(results):\n    print(f\"i:{i}\")\n    print(result.get('title'))\n    print(result.get('text'))",
      "metadata": {},
      "execution_count": null,
      "outputs": [],
      "id": "7992a830-b608-4f81-b57a-659b795f7bb0"
    },
    {
      "cell_type": "code",
      "source": "query_1 = \"What is the capital of Canada?\"\nresults = keyword_search(query_1,\n                         client,\n                         properties=[\"text\", \"title\", \"url\", \"views\", \"lang\", \"_additional {distance}\"],\n                         num_results=500\n                        )\n\nfor i, result in enumerate(results):\n    print(f\"i:{i}\")\n    print(result.get('title'))\n    #print(result.get('text'))",
      "metadata": {},
      "execution_count": null,
      "outputs": [],
      "id": "b2363150-81c5-42cb-b965-12a85778ad55"
    },
    {
      "cell_type": "code",
      "source": "def rerank_responses(query, responses, num_responses=10):\n    reranked_responses = co.rerank(\n        model = 'rerank-english-v2.0',\n        query = query,\n        documents = responses,\n        top_n = num_responses,\n        )\n    return reranked_responses",
      "metadata": {},
      "execution_count": null,
      "outputs": [],
      "id": "9c1bd3d4-7164-4e7f-825d-f82630fccba7"
    },
    {
      "cell_type": "code",
      "source": "texts = [result.get('text') for result in results]\nreranked_text = rerank_responses(query_1, texts)",
      "metadata": {},
      "execution_count": null,
      "outputs": [],
      "id": "fc1376e2-6871-47d2-af81-5b9a9a4ae02e"
    },
    {
      "cell_type": "code",
      "source": "for i, rerank_result in enumerate(reranked_text):\n    print(f\"i:{i}\")\n    print(f\"{rerank_result}\")\n    print()",
      "metadata": {},
      "execution_count": null,
      "outputs": [],
      "id": "be9358ba-d70d-4e91-8adb-d869bd023224"
    },
    {
      "cell_type": "markdown",
      "source": "## Improving Dense Retrieval with ReRank",
      "metadata": {},
      "id": "05733ed4"
    },
    {
      "cell_type": "code",
      "source": "from utils import dense_retrieval",
      "metadata": {
        "height": 132
      },
      "execution_count": null,
      "outputs": [],
      "id": "ef89a105"
    },
    {
      "cell_type": "code",
      "source": "query_2 = \"Who is the tallest person in history?\"",
      "metadata": {
        "height": 30
      },
      "execution_count": null,
      "outputs": [],
      "id": "2c33c078"
    },
    {
      "cell_type": "code",
      "source": "results = dense_retrieval(query_2,client)",
      "metadata": {
        "height": 47
      },
      "execution_count": null,
      "outputs": [],
      "id": "a2b96e44"
    },
    {
      "cell_type": "code",
      "source": "for i, result in enumerate(results):\n    print(f\"i:{i}\")\n    print(result.get('title'))\n    print(result.get('text'))\n    print()",
      "metadata": {
        "height": 30
      },
      "execution_count": null,
      "outputs": [],
      "id": "eeb8c945"
    },
    {
      "cell_type": "code",
      "source": "texts = [result.get('text') for result in results]\nreranked_text = rerank_responses(query_2, texts)",
      "metadata": {},
      "execution_count": null,
      "outputs": [],
      "id": "38145a31-5c09-4312-88c3-2f8addd946ca"
    },
    {
      "cell_type": "code",
      "source": "for i, rerank_result in enumerate(reranked_text):\n    print(f\"i:{i}\")\n    print(f\"{rerank_result}\")\n    print()",
      "metadata": {},
      "execution_count": null,
      "outputs": [],
      "id": "5a8a2e4a-0fd3-4be1-9ab4-1a3738d2678b"
    },
    {
      "cell_type": "code",
      "source": "",
      "metadata": {
        "height": 30
      },
      "execution_count": null,
      "outputs": [],
      "id": "387c8901"
    },
    {
      "cell_type": "code",
      "source": "",
      "metadata": {
        "height": 30
      },
      "execution_count": null,
      "outputs": [],
      "id": "cc3c9b2d"
    },
    {
      "cell_type": "code",
      "source": "",
      "metadata": {
        "height": 30
      },
      "execution_count": null,
      "outputs": [],
      "id": "d8b338c7"
    },
    {
      "cell_type": "code",
      "source": "",
      "metadata": {
        "height": 30
      },
      "execution_count": null,
      "outputs": [],
      "id": "b9e30d7b"
    },
    {
      "cell_type": "code",
      "source": "",
      "metadata": {
        "height": 30
      },
      "execution_count": null,
      "outputs": [],
      "id": "ec708a6b"
    }
  ]
}