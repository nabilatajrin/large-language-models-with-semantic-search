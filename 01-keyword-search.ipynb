{
  "metadata": {
    "kernelspec": {
      "name": "python",
      "display_name": "Python (Pyodide)",
      "language": "python"
    },
    "language_info": {
      "codemirror_mode": {
        "name": "python",
        "version": 3
      },
      "file_extension": ".py",
      "mimetype": "text/x-python",
      "name": "python",
      "nbconvert_exporter": "python",
      "pygments_lexer": "ipython3",
      "version": "3.8"
    }
  },
  "nbformat_minor": 5,
  "nbformat": 4,
  "cells": [
    {
      "cell_type": "markdown",
      "source": "# Keyword Search",
      "metadata": {},
      "id": "45b98f11"
    },
    {
      "cell_type": "markdown",
      "source": "## Setup\n\nLet's load needed API keys and relevant Python libaries.",
      "metadata": {},
      "id": "06335224"
    },
    {
      "cell_type": "code",
      "source": "# !pip install cohere\n# !pip install weaviate-client",
      "metadata": {
        "height": 47
      },
      "execution_count": null,
      "outputs": [],
      "id": "c54004a6"
    },
    {
      "cell_type": "code",
      "source": "import os\nfrom dotenv import load_dotenv, find_dotenv\n_ = load_dotenv(find_dotenv()) # read local .env file",
      "metadata": {
        "height": 81
      },
      "execution_count": null,
      "outputs": [],
      "id": "45ff94ae-8603-431a-acee-0ec3a39a1056"
    },
    {
      "cell_type": "markdown",
      "source": "Let's start by imporing Weaviate to access the Wikipedia database.",
      "metadata": {},
      "id": "c23677b6"
    },
    {
      "cell_type": "code",
      "source": "import weaviate\nauth_config = weaviate.auth.AuthApiKey(\n    api_key=os.environ['WEAVIATE_API_KEY'])\n\n",
      "metadata": {
        "height": 98
      },
      "execution_count": null,
      "outputs": [],
      "id": "f44886bf-f8cf-4f90-83ae-2299ec448e16"
    },
    {
      "cell_type": "code",
      "source": "client = weaviate.Client(\n    url=os.environ['WEAVIATE_API_URL'],\n    auth_client_secret=auth_config,\n    additional_headers={\n        \"X-Cohere-Api-Key\": os.environ['COHERE_API_KEY'],\n    }\n)",
      "metadata": {
        "height": 149
      },
      "execution_count": null,
      "outputs": [],
      "id": "750583ec-7263-4927-b484-9818fba3318b"
    },
    {
      "cell_type": "code",
      "source": "client.is_ready() ",
      "metadata": {
        "height": 30
      },
      "execution_count": null,
      "outputs": [],
      "id": "2efcdfdc-1566-4046-95d8-f9f2f3a36088"
    },
    {
      "cell_type": "markdown",
      "source": "# Keyword Search",
      "metadata": {},
      "id": "78acc1ed"
    },
    {
      "cell_type": "code",
      "source": "def keyword_search(query,\n                   results_lang='en',\n                   properties = [\"title\",\"url\",\"text\"],\n                   num_results=3):\n\n    where_filter = {\n    \"path\": [\"lang\"],\n    \"operator\": \"Equal\",\n    \"valueString\": results_lang\n    }\n    \n    response = (\n        client.query.get(\"Articles\", properties)\n        .with_bm25(\n            query=query\n        )\n        .with_where(where_filter)\n        .with_limit(num_results)\n        .do()\n        )\n\n    result = response['data']['Get']['Articles']\n    return result",
      "metadata": {
        "height": 421
      },
      "execution_count": null,
      "outputs": [],
      "id": "017cd922-c729-4aa7-8696-d11d28eb7288"
    },
    {
      "cell_type": "code",
      "source": "query = \"What is the most viewed televised event?\"\nkeyword_search_results = keyword_search(query)\nprint(keyword_search_results)",
      "metadata": {
        "height": 81,
        "tags": []
      },
      "execution_count": null,
      "outputs": [],
      "id": "5a9e70d9-326f-443c-915a-5a97c0dfe54b"
    },
    {
      "cell_type": "markdown",
      "source": "### Try modifying the search options\n- Other languages to try: `en, de, fr, es, it, ja, ar, zh, ko, hi`",
      "metadata": {},
      "id": "b15686a7"
    },
    {
      "cell_type": "code",
      "source": "properties = [\"text\", \"title\", \"url\", \n             \"views\", \"lang\"]",
      "metadata": {
        "height": 47
      },
      "execution_count": null,
      "outputs": [],
      "id": "260397fc-2799-426d-8b82-afbe9c3a126e"
    },
    {
      "cell_type": "code",
      "source": "def print_result(result):\n    \"\"\" Print results with colorful formatting \"\"\"\n    for i,item in enumerate(result):\n        print(f'item {i}')\n        for key in item.keys():\n            print(f\"{key}:{item.get(key)}\")\n            print()\n        print()",
      "metadata": {
        "height": 166
      },
      "execution_count": null,
      "outputs": [],
      "id": "2a2daa0b-dd23-4ffd-8b3d-d08b73e052b9"
    },
    {
      "cell_type": "code",
      "source": "print_result(keyword_search_results)",
      "metadata": {
        "height": 30,
        "scrolled": true,
        "tags": []
      },
      "execution_count": null,
      "outputs": [],
      "id": "6bdb1635-adad-411b-8059-d6b8b251fb2c"
    },
    {
      "cell_type": "code",
      "source": "query = \"What is the most viewed televised event?\"\nkeyword_search_results = keyword_search(query, results_lang='de')\nprint_result(keyword_search_results)",
      "metadata": {
        "height": 81
      },
      "execution_count": null,
      "outputs": [],
      "id": "2350fa0e-f896-42af-bcb1-a7577f9c9be1"
    },
    {
      "cell_type": "code",
      "source": "",
      "metadata": {
        "height": 30
      },
      "execution_count": null,
      "outputs": [],
      "id": "99269036-ec4e-4852-85fc-19593df6e638"
    },
    {
      "cell_type": "code",
      "source": "",
      "metadata": {
        "height": 30
      },
      "execution_count": null,
      "outputs": [],
      "id": "64bb115e-bfe4-4d0c-99a6-a8ef980365f7"
    }
  ]
}